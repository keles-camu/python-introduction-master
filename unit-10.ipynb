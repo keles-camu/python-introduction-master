{
 "cells": [
  {
   "cell_type": "markdown",
   "id": "fe193936",
   "metadata": {},
   "source": [
    "Caso 1. Cree una clase Entidad. Contendrá por atributos el número de entidad, su director y clientes. Los datos los vamos a rellenar sacando la información del fichero personas.txt. Mostrar los datos de las distintas entidades."
   ]
  },
  {
   "cell_type": "code",
   "execution_count": null,
   "id": "c4c905bb",
   "metadata": {},
   "outputs": [],
   "source": [
    "class Entidad(object):\n",
    "    def __init__(self,entidad,director,cliente):\n",
    "        self.numero = numero\n",
    "        self.director = director\n",
    "        self.cliente = cliente\n",
    "    \n",
    "    def mostrar(self):\n",
    "        print('Numero = ', self.numero)\n",
    "        print('Director = ', self.director)\n",
    "        print('Cliente = ', self.cliente)\n",
    "\n",
    "lineas = open(personas.txt).readlines()\n",
    "lista_entidades = list()\n",
    "\n",
    "for l in lineas:\n",
    "    datos = l.split(';')\n",
    "    p = Entidad (datos [0], datos [1], datos [2])\n",
    "    lista_entidades.append(p)\n",
    "\n",
    "for p in lista_entidades:\n",
    "    p.mostrar()"
   ]
  },
  {
   "cell_type": "markdown",
   "id": "340bb22a",
   "metadata": {},
   "source": [
    "Caso 2. Crear una clase llamada Perros que contiene el nombre, el peso y los métodos de obtener los atributos anteriores.Para obtener los datos que vamos a guardar de cada perro deberemos leer la información de un fichero llamado ANIMALES.txt, su contenido es una línea con los datos de cada perro."
   ]
  },
  {
   "cell_type": "code",
   "execution_count": null,
   "id": "4343a4ce",
   "metadata": {},
   "outputs": [],
   "source": []
  },
  {
   "cell_type": "markdown",
   "id": "86849f52",
   "metadata": {},
   "source": [
    "Caso 3.\n",
    "\n",
    "Ejercicio 1.\n",
    "Crear una clase llamada Persona. Contendrá el nombre, DNI, dirección y teléfono. Por método tendrá que mostrar que imprimirá por pantalla los datos de la persona.\n",
    "\n",
    "\n",
    "Ejercicio 2. Basándose en la clase anterior, se debe crear la clase Alumnos, que va a heredar los atributos de Persona, además de las notas. Mostrar los datos de los alumnos con sus notas."
   ]
  },
  {
   "cell_type": "code",
   "execution_count": 27,
   "id": "a58b98e5",
   "metadata": {},
   "outputs": [
    {
     "name": "stdout",
     "output_type": "stream",
     "text": [
      "dni: 1010101\n",
      "adress: Calle Paloma\n",
      "phone number: 6123456\n"
     ]
    }
   ],
   "source": [
    "class People:\n",
    "    def __init__(self,dni,adress,phone):\n",
    "        self.dni = dni\n",
    "        self.adress = adress\n",
    "        self.phone = phone\n",
    "    def __str__(self):\n",
    "        print('dni:', self.dni)\n",
    "        print('adress:', self.adress)\n",
    "        print('phone number:', self.phone)\n",
    "\n",
    "eva = People(1010101, 'Calle Paloma', 6123456)\n",
    "\n",
    "eva.__str__()"
   ]
  },
  {
   "cell_type": "code",
   "execution_count": 33,
   "id": "5cc217ed",
   "metadata": {},
   "outputs": [
    {
     "name": "stdout",
     "output_type": "stream",
     "text": [
      "dni: 1010101\n",
      "adress: Calle Paloma\n",
      "phone number: 6123456\n",
      "qualification: 8.5\n"
     ]
    }
   ],
   "source": [
    "class Student(People):\n",
    "    def __init__(self,dni,adress,phone,qualification):\n",
    "        People.__init__(self,dni,adress,phone)\n",
    "        self.qualification = qualification\n",
    "    def consult(self):\n",
    "        print('dni:', self.dni)\n",
    "        print('adress:', self.adress)\n",
    "        print('phone number:', self.phone)\n",
    "        print('qualification:', self.qualification)\n",
    "\n",
    "student_1 = Student(1010101, 'Calle Paloma', 6123456, 8.5)\n",
    "\n",
    "student_1.consult()"
   ]
  },
  {
   "cell_type": "code",
   "execution_count": null,
   "id": "b40f19a9",
   "metadata": {},
   "outputs": [],
   "source": []
  }
 ],
 "metadata": {
  "kernelspec": {
   "display_name": "Python 3 (ipykernel)",
   "language": "python",
   "name": "python3"
  },
  "language_info": {
   "codemirror_mode": {
    "name": "ipython",
    "version": 3
   },
   "file_extension": ".py",
   "mimetype": "text/x-python",
   "name": "python",
   "nbconvert_exporter": "python",
   "pygments_lexer": "ipython3",
   "version": "3.11.4"
  }
 },
 "nbformat": 4,
 "nbformat_minor": 5
}
