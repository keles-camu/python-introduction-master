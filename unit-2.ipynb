{
 "cells": [
  {
   "cell_type": "markdown",
   "id": "01279e51",
   "metadata": {},
   "source": [
    "Caso 1. Pedir el nombre de un producto por teclado y su peso (teniendo en cuenta que puede tener decimales).\n",
    "\n",
    "Mostrar los datos por pantalla teniendo en cuenta que, si el peso introducido tiene más de 3 decimales, se requiere redondearlo exactamente a 2."
   ]
  },
  {
   "cell_type": "code",
   "execution_count": 2,
   "id": "0f4d5bc8",
   "metadata": {},
   "outputs": [
    {
     "name": "stdout",
     "output_type": "stream",
     "text": [
      "nombre producto  manzana\n",
      "peso  2.725\n",
      "El producto es manzana y pesa 2.73\n"
     ]
    }
   ],
   "source": [
    "producto=input(\"nombre producto  \")\n",
    "peso=float(input(\"peso  \"))\n",
    "\n",
    "print(\"El producto es %s y pesa %.2f\"%(producto, peso))"
   ]
  },
  {
   "cell_type": "code",
   "execution_count": 11,
   "id": "17c48900",
   "metadata": {},
   "outputs": [
    {
     "name": "stdout",
     "output_type": "stream",
     "text": [
      "nombre producto  plátanos\n",
      "peso  5.876\n",
      "El producto es  plátanos y pesa  5.88\n"
     ]
    }
   ],
   "source": [
    "producto=input(\"nombre producto  \")\n",
    "peso=float(input(\"peso  \"))\n",
    "\n",
    "print(\"El producto es \", producto, \"y pesa \", round((peso),2))"
   ]
  },
  {
   "cell_type": "markdown",
   "id": "d052fed0",
   "metadata": {},
   "source": [
    "Caso 2. Realizar un programa que pida un número entero al usuario e informe del valor del cociente y el resto de dividirlo por dos."
   ]
  },
  {
   "cell_type": "code",
   "execution_count": 12,
   "id": "c18f3e8e",
   "metadata": {},
   "outputs": [
    {
     "name": "stdout",
     "output_type": "stream",
     "text": [
      "numero  9\n",
      "El número introducido es 9, su cociente es 4 y el resto 1\n"
     ]
    }
   ],
   "source": [
    "numero=int(input(\"numero  \"))\n",
    "cociente=numero/2\n",
    "resto=numero%2\n",
    "\n",
    "print(\"El número introducido es %d, su cociente es %.d y el resto %d\"%(numero, cociente, resto))"
   ]
  },
  {
   "cell_type": "markdown",
   "id": "1bda9642",
   "metadata": {},
   "source": [
    "Caso 3. Realizar un programa en Python que imprima por pantalla los datos que se le han pedido por teclado:\n",
    "\n",
    "    Nombre\n",
    "    Apellidos\n",
    "    Edad\n",
    "    DNI\n",
    "    Domicilio"
   ]
  },
  {
   "cell_type": "code",
   "execution_count": 6,
   "id": "7290f7cc",
   "metadata": {},
   "outputs": [
    {
     "name": "stdout",
     "output_type": "stream",
     "text": [
      "nombre  Marta\n",
      "apellidos  López López\n",
      "edad  34\n",
      "dni  123x\n",
      "domicilio  Calle Pez\n",
      "Mi nombre es Marta mis apellidos son López López y tengo 34 mi dni es 123x vivo en Calle Pez\n"
     ]
    }
   ],
   "source": [
    "nombre=input(\"nombre  \")\n",
    "apellidos=input(\"apellidos  \")\n",
    "edad=int(input(\"edad  \"))\n",
    "dni=input(\"dni  \")\n",
    "domicilio=input(\"domicilio  \")\n",
    "\n",
    "print(\"Mi nombre es\", nombre, \"mis apellidos son\", apellidos, \"y tengo\", edad, \"mi dni es\", dni, \"vivo en\", domicilio)"
   ]
  },
  {
   "cell_type": "markdown",
   "id": "d8c25a78",
   "metadata": {},
   "source": [
    "Caso 4. Realizar un programa en Python que calcule el área (en metros cuadrados) y el perímetro (en metros) de un cuadrado 5 metros de lado."
   ]
  },
  {
   "cell_type": "code",
   "execution_count": 7,
   "id": "c8003aee",
   "metadata": {},
   "outputs": [
    {
     "name": "stdout",
     "output_type": "stream",
     "text": [
      "El área del cuadrado es 25\n",
      "El perímetro del cuadrado es 20\n"
     ]
    }
   ],
   "source": [
    "lado=5\n",
    "\n",
    "area=lado*lado\n",
    "perim=4*lado\n",
    "\n",
    "print(\"El área del cuadrado es\", area)\n",
    "print(\"El perímetro del cuadrado es\", perim)"
   ]
  },
  {
   "cell_type": "code",
   "execution_count": 11,
   "id": "ef190879",
   "metadata": {},
   "outputs": [
    {
     "name": "stdout",
     "output_type": "stream",
     "text": [
      "El área del cuadrado es 30.25\n",
      "El perímetro del cuadrado es 22.00\n"
     ]
    }
   ],
   "source": [
    "lado=5.5\n",
    "\n",
    "area=lado*lado\n",
    "perim=4*lado\n",
    "\n",
    "print(\"El área del cuadrado es %.2f\"%(area))\n",
    "print(\"El perímetro del cuadrado es %.2f\"%(perim))"
   ]
  }
 ],
 "metadata": {
  "kernelspec": {
   "display_name": "Python 3 (ipykernel)",
   "language": "python",
   "name": "python3"
  },
  "language_info": {
   "codemirror_mode": {
    "name": "ipython",
    "version": 3
   },
   "file_extension": ".py",
   "mimetype": "text/x-python",
   "name": "python",
   "nbconvert_exporter": "python",
   "pygments_lexer": "ipython3",
   "version": "3.11.4"
  }
 },
 "nbformat": 4,
 "nbformat_minor": 5
}
