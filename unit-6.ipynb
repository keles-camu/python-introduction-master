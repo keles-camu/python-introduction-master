{
 "cells": [
  {
   "cell_type": "markdown",
   "id": "35c08b70",
   "metadata": {},
   "source": [
    "Caso 1. Nos pasan una cadena como la siguiente line = 'a: b: c: d: e: f:gh '\n",
    "\n",
    "Debemos crear un script que nos devuelva la cadena 'a, b, c, d, e, f, g, h'"
   ]
  },
  {
   "cell_type": "code",
   "execution_count": 95,
   "id": "88b6b3e7",
   "metadata": {},
   "outputs": [
    {
     "data": {
      "text/plain": [
       "'a, b, c, d, e, f, g, h'"
      ]
     },
     "execution_count": 95,
     "metadata": {},
     "output_type": "execute_result"
    }
   ],
   "source": [
    "line = 'a: b: c: d: e: f:g: h '\n",
    "\n",
    "', '.join(x.strip() for x in line.split(':'))\n",
    "\n",
    "#','.join(line) #Takes all items in an iterable and joins them into one string\n",
    "#line.strip() #Remove spaces at the beginning and at the end of the string\n",
    "#line.split() #Splits a string into a list"
   ]
  },
  {
   "cell_type": "markdown",
   "id": "7e3f4e0f",
   "metadata": {},
   "source": [
    "Caso 2. Nos piden por teclado el nombre de una web, por ejemplo, www.afuera.es y queremos que nos muestre el nombre del dominio, en este caso afuera.es."
   ]
  },
  {
   "cell_type": "code",
   "execution_count": 175,
   "id": "cffbcc89",
   "metadata": {},
   "outputs": [
    {
     "name": "stdout",
     "output_type": "stream",
     "text": [
      "afuera.es\n"
     ]
    }
   ],
   "source": [
    "web_name = 'www.afuera.es'\n",
    "domain_name = web_name.strip ('www.')\n",
    "print(domain_name)"
   ]
  },
  {
   "cell_type": "code",
   "execution_count": 176,
   "id": "2c607adb",
   "metadata": {},
   "outputs": [
    {
     "name": "stdout",
     "output_type": "stream",
     "text": [
      "afuera.es\n"
     ]
    }
   ],
   "source": [
    "web_name = 'www.afuera.es'\n",
    "i = web_name.split ('.',1)\n",
    "domain_name = i[1]\n",
    "print(domain_name)"
   ]
  },
  {
   "cell_type": "markdown",
   "id": "533d080b",
   "metadata": {},
   "source": [
    "Caso 3. Con esta lista inicial y se debe obtener otra sin los espacios en blanco delante y detrás.\n",
    "\n",
    "Frutafresca = [' banana', ' mora de Logan ', 'maracuyá']"
   ]
  },
  {
   "cell_type": "code",
   "execution_count": 37,
   "id": "93f2681a",
   "metadata": {},
   "outputs": [
    {
     "name": "stdout",
     "output_type": "stream",
     "text": [
      "['banana', 'mora de Logan', 'maracuyá']\n"
     ]
    }
   ],
   "source": [
    "Frutafresca = [' banana', ' mora de Logan ', 'maracuyá']\n",
    "lista = []\n",
    "\n",
    "for i in Frutafresca:\n",
    "    clean = i.strip()\n",
    "    lista.append(clean) #append: to create a new list based on the values of an existing list\n",
    "\n",
    "print(lista)"
   ]
  },
  {
   "cell_type": "markdown",
   "id": "d030a3f9",
   "metadata": {},
   "source": [
    "Ejercicio 1\n",
    "\n",
    "String = \"blah, lots, of, spaces, here\"\n",
    "\n",
    "Si se tiene la cadena anterior y se requiere que cuente cuántas palabras hay en ella. Hay que tener en cuenta los blancos."
   ]
  },
  {
   "cell_type": "code",
   "execution_count": 45,
   "id": "6e63398d",
   "metadata": {},
   "outputs": [
    {
     "name": "stdout",
     "output_type": "stream",
     "text": [
      "['blah', ' lots', ' of', ' spaces', ' here']\n",
      "5\n"
     ]
    }
   ],
   "source": [
    "String = \"blah, lots, of, spaces, here\"\n",
    "\n",
    "a = String.split(',')\n",
    "\n",
    "print(a)\n",
    "print(len(a))"
   ]
  },
  {
   "cell_type": "markdown",
   "id": "432ac753",
   "metadata": {},
   "source": [
    "Ejercicio 2\n",
    "\n",
    "Con la siguiente cadena se debe crear un script que devuelva la misma cadena sin 0:\n",
    "\n",
    "Frase “0000000000000000 es un ejemplo de string con zeros ¡!! 00000000."
   ]
  },
  {
   "cell_type": "code",
   "execution_count": 49,
   "id": "2e17f050",
   "metadata": {},
   "outputs": [
    {
     "name": "stdout",
     "output_type": "stream",
     "text": [
      " es un ejemplo de string con zeros ¡!! \n",
      "0000000000000000 es un ejemplo de string con zeros ¡!! \n",
      " es un ejemplo de string con zeros ¡!! 00000000\n"
     ]
    }
   ],
   "source": [
    "Frase = '0000000000000000 es un ejemplo de string con zeros ¡!! 00000000'\n",
    "\n",
    "print(Frase.strip('0'))\n",
    "\n",
    "print(Frase.rstrip('0'))\n",
    "print(Frase.lstrip('0'))"
   ]
  },
  {
   "cell_type": "markdown",
   "id": "82077af2",
   "metadata": {},
   "source": [
    "Ejercicio 3\n",
    "\n",
    "Se tiene una cadena como la siguiente línea = 'a: b: c: d: e: f:gh '\n",
    "\n",
    "Se debe crear un script que devuelva la cadena 'a, b, c, d, e, f, g, h'."
   ]
  },
  {
   "cell_type": "code",
   "execution_count": 56,
   "id": "ee55427a",
   "metadata": {},
   "outputs": [
    {
     "name": "stdout",
     "output_type": "stream",
     "text": [
      "a, b, c, d, e, f,gh \n"
     ]
    }
   ],
   "source": [
    "line = 'a: b: c: d: e: f:gh '\n",
    "\n",
    "#line_2 = line.split(':')\n",
    "\n",
    "print(','.join(line.split(':')))"
   ]
  },
  {
   "cell_type": "markdown",
   "id": "b7e13961",
   "metadata": {},
   "source": [
    "Ejercicio 4\n",
    "\n",
    "Leer una cadena de texto del usuario y para cada letra indica si es una vocal o una consonante."
   ]
  },
  {
   "cell_type": "code",
   "execution_count": 66,
   "id": "be59a073",
   "metadata": {},
   "outputs": [
    {
     "name": "stdout",
     "output_type": "stream",
     "text": [
      "Introduce texto hola\n",
      "h es una consonante\n",
      "o es una vocal\n",
      "l es una consonante\n",
      "a es una vocal\n"
     ]
    }
   ],
   "source": [
    "cadena = input('Introduce texto ')\n",
    "vocales = ['a', 'e', 'i', 'o', 'u']\n",
    "\n",
    "for i in cadena:\n",
    "    if i in vocales:\n",
    "        print(i, 'es una vocal')\n",
    "    else:\n",
    "        print(i, 'es una consonante')"
   ]
  },
  {
   "cell_type": "code",
   "execution_count": null,
   "id": "5af8d5d8",
   "metadata": {},
   "outputs": [],
   "source": []
  }
 ],
 "metadata": {
  "kernelspec": {
   "display_name": "Python 3 (ipykernel)",
   "language": "python",
   "name": "python3"
  },
  "language_info": {
   "codemirror_mode": {
    "name": "ipython",
    "version": 3
   },
   "file_extension": ".py",
   "mimetype": "text/x-python",
   "name": "python",
   "nbconvert_exporter": "python",
   "pygments_lexer": "ipython3",
   "version": "3.11.4"
  }
 },
 "nbformat": 4,
 "nbformat_minor": 5
}
