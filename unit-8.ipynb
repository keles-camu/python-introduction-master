{
 "cells": [
  {
   "cell_type": "markdown",
   "id": "556f7bda",
   "metadata": {},
   "source": [
    "Caso práctico 1. Diseña un programa. Supongamos que tenemos una lista de nombre de personas people = ['Amy', 'Alice',\n",
    "'Bobby', 'Charlie', 'Connie', 'David']. Lo que queremos es que se filtre la información y quedarnos solo con\n",
    "los que empiezan por C. Crea una función que haga lo que se te pide."
   ]
  },
  {
   "cell_type": "code",
   "execution_count": 25,
   "id": "c8a99d17",
   "metadata": {},
   "outputs": [
    {
     "name": "stdout",
     "output_type": "stream",
     "text": [
      "['Charlie', 'Connie']\n"
     ]
    }
   ],
   "source": [
    "def get_names_starts_with_C():\n",
    "\n",
    "    people = ['Amy', 'Alice', 'Bobby', 'Charlie', 'Connie', 'David'] #Local variables\n",
    "\n",
    "    people_2 = []\n",
    "\n",
    "    for i in people:\n",
    "        if i.startswith('C'):\n",
    "            people_2.append(i)\n",
    "    \n",
    "        else:\n",
    "            pass\n",
    "\n",
    "    print(people_2)\n",
    "\n",
    "get_names_starts_with_C()"
   ]
  },
  {
   "cell_type": "code",
   "execution_count": 27,
   "id": "869b42f3",
   "metadata": {},
   "outputs": [
    {
     "name": "stdout",
     "output_type": "stream",
     "text": [
      "['Charlie', 'Connie']\n"
     ]
    }
   ],
   "source": [
    "people = ['Amy', 'Alice', 'Bobby', 'Charlie', 'Connie', 'David'] #Global variables\n",
    "\n",
    "people_2 = []\n",
    "\n",
    "def get_names_starts_with_C(people, people_2):\n",
    "\n",
    "    for i in people:\n",
    "        if i.startswith('C'):\n",
    "            people_2.append(i)\n",
    "    \n",
    "        else:\n",
    "            pass\n",
    "\n",
    "    print(people_2)\n",
    "\n",
    "get_names_starts_with_C(people, people_2)"
   ]
  },
  {
   "cell_type": "code",
   "execution_count": 28,
   "id": "2f547f29",
   "metadata": {},
   "outputs": [
    {
     "name": "stdout",
     "output_type": "stream",
     "text": [
      "[False, False, False, True, True, False]\n"
     ]
    }
   ],
   "source": [
    "people = ['Amy', 'Alice', 'Bobby', 'Charlie', 'Connie', 'David']\n",
    "\n",
    "people_2 = []\n",
    "\n",
    "for i in people:\n",
    "    clean = i.startswith('C')\n",
    "    people_2.append(clean) #append: to create a new list based on the values of an existing list\n",
    "\n",
    "print(people_2)\n",
    "\n",
    "def filter_names(people_2):\n",
    "\n",
    "    names_with_c = []\n",
    "    \n",
    "    for i in people_2:\n",
    "        if 'C' in i:\n",
    "            names_with_C.startswith(i)\n",
    "        else:\n",
    "            pass\n",
    "        \n",
    "    return names_with_C"
   ]
  },
  {
   "cell_type": "code",
   "execution_count": 7,
   "id": "31852389",
   "metadata": {},
   "outputs": [
    {
     "name": "stdout",
     "output_type": "stream",
     "text": [
      "[['Amy', 'A'], ['Alice', 'A'], ['Bobby', 'B'], ['Charlie', 'C'], ['Connie', 'C'], ['David', 'D']]\n"
     ]
    }
   ],
   "source": [
    "people = ['Amy', 'Alice', 'Bobby', 'Charlie', 'Connie', 'David']\n",
    "\n",
    "def iniciales(names):\n",
    "    print([[name,name[0]] for name in names ])\n",
    "\n",
    "iniciales(people)"
   ]
  },
  {
   "cell_type": "markdown",
   "id": "6bf2b8fc",
   "metadata": {},
   "source": [
    "Caso 2. Crear una función que establezca como parámetros de la función lambda tres palabras y nos las muestre concatenadas."
   ]
  },
  {
   "cell_type": "code",
   "execution_count": 3,
   "id": "ae67a940",
   "metadata": {},
   "outputs": [
    {
     "name": "stdout",
     "output_type": "stream",
     "text": [
      "Mercurio Venus La Tierra\n"
     ]
    }
   ],
   "source": [
    "planets = (lambda a = 'Mercurio ', b = 'Venus ', c = 'La Tierra': a + b + c)\n",
    "\n",
    "print (planets())"
   ]
  },
  {
   "cell_type": "markdown",
   "id": "1dde8d63",
   "metadata": {},
   "source": [
    "Caso 3. Explica que devuelve cada caso de la función lambda:\n",
    "\n",
    "f = lambda x, y, z=1: (x+y) * z\n",
    "\n",
    "f(5, 6)\n",
    "\n",
    "f(5, 6, 7)"
   ]
  },
  {
   "cell_type": "code",
   "execution_count": 7,
   "id": "c8d4f05c",
   "metadata": {},
   "outputs": [
    {
     "data": {
      "text/plain": [
       "11"
      ]
     },
     "execution_count": 7,
     "metadata": {},
     "output_type": "execute_result"
    }
   ],
   "source": [
    "f = (lambda x, y, z = 1: (x+y) * z)\n",
    "\n",
    "f(5, 6)"
   ]
  },
  {
   "cell_type": "code",
   "execution_count": 9,
   "id": "d371dcff",
   "metadata": {},
   "outputs": [
    {
     "data": {
      "text/plain": [
       "77"
      ]
     },
     "execution_count": 9,
     "metadata": {},
     "output_type": "execute_result"
    }
   ],
   "source": [
    "f = (lambda x, y, z = 1: (x+y) * z)\n",
    "\n",
    "f(5, 6, 7)"
   ]
  },
  {
   "cell_type": "markdown",
   "id": "97229ce7",
   "metadata": {},
   "source": [
    "Caso 4. Haciendo uso de las funciones de alto orden, crea una función llamada “cuadrado” que calcule la raíz cuadrada de una lista de valores:\n",
    "\n",
    "- Indica que función de alto nivel has usado.\n",
    "- Realiza el ejercicio. Los valores y la lista os lo podéis inventar vosotros."
   ]
  },
  {
   "cell_type": "code",
   "execution_count": 11,
   "id": "789e5c17",
   "metadata": {},
   "outputs": [
    {
     "name": "stdout",
     "output_type": "stream",
     "text": [
      "1.0\n",
      "1.4142135623730951\n",
      "1.7320508075688772\n",
      "2.0\n",
      "2.23606797749979\n"
     ]
    }
   ],
   "source": [
    "import math\n",
    "\n",
    "lista = [1, 2, 3, 4, 5]\n",
    "\n",
    "for i in lista:\n",
    "    print ((lambda x: math.sqrt(x))(i))"
   ]
  },
  {
   "cell_type": "markdown",
   "id": "b9c4b1f5",
   "metadata": {},
   "source": [
    "Caso 5. Se nos informa que tenemos una lista como la siguiente: lista5 = [-3, -2, 0, 1, 9, -5].\n",
    "\n",
    "Queremos realizar una función llamada verdad_mentira que nos indique si cada valor de la lista cumple o no el criterio de ser menor a 0. Para ello, debemos recurrir a las funciones de alto orden.\n",
    "\n",
    "- Indica que función de alto nivel has usado.\n",
    "- Realiza el ejercicio."
   ]
  },
  {
   "cell_type": "code",
   "execution_count": 12,
   "id": "f2ac067a",
   "metadata": {},
   "outputs": [
    {
     "name": "stdout",
     "output_type": "stream",
     "text": [
      "[-3, -2, -5]\n"
     ]
    }
   ],
   "source": [
    "lista5 = [-3, -2, 0, 1, 9, -5]\n",
    "\n",
    "def verdad_mentira (lista5):\n",
    "    \n",
    "    return list(filter(lambda n: n < 0, lista5))\n",
    "\n",
    "print(verdad_mentira (lista5))"
   ]
  },
  {
   "cell_type": "markdown",
   "id": "44c04c17",
   "metadata": {},
   "source": [
    "Caso 6."
   ]
  },
  {
   "cell_type": "markdown",
   "id": "d7d9cc6c",
   "metadata": {},
   "source": [
    "Ejercicio 1. Crear una función a la que se le va a pasar una cadena y un número y debe pintar dicha cadena tantas veces como el número indica."
   ]
  },
  {
   "cell_type": "code",
   "execution_count": 19,
   "id": "8a032c68",
   "metadata": {},
   "outputs": [
    {
     "name": "stdout",
     "output_type": "stream",
     "text": [
      "Hello World\n",
      "Hello World\n",
      "Hello World\n"
     ]
    }
   ],
   "source": [
    "def func (num, cadena):\n",
    "    i = 1\n",
    "    while i <= num:\n",
    "        print(cadena)\n",
    "        i += 1\n",
    "\n",
    "func (3, 'Hello World')"
   ]
  },
  {
   "cell_type": "markdown",
   "id": "bbbfa4f6",
   "metadata": {},
   "source": [
    "Ejercicio 2. Desarrollar una función que reciba tres enteros y retorne la suma de los dos más grandes.\n",
    "\n",
    "def sumar mayores (x1, x2, x3):"
   ]
  },
  {
   "cell_type": "code",
   "execution_count": 20,
   "id": "dc88b220",
   "metadata": {},
   "outputs": [
    {
     "name": "stdout",
     "output_type": "stream",
     "text": [
      "9\n"
     ]
    }
   ],
   "source": [
    "import functools\n",
    "\n",
    "def func (x1, x2, x3):\n",
    "    lista = []\n",
    "    lista.extend([x1, x2, x3])\n",
    "    \n",
    "    return functools.reduce(lambda x,y: x+y,lista)\n",
    "\n",
    "print(func(2, 3, 4))"
   ]
  }
 ],
 "metadata": {
  "kernelspec": {
   "display_name": "Python 3 (ipykernel)",
   "language": "python",
   "name": "python3"
  },
  "language_info": {
   "codemirror_mode": {
    "name": "ipython",
    "version": 3
   },
   "file_extension": ".py",
   "mimetype": "text/x-python",
   "name": "python",
   "nbconvert_exporter": "python",
   "pygments_lexer": "ipython3",
   "version": "3.11.4"
  }
 },
 "nbformat": 4,
 "nbformat_minor": 5
}
