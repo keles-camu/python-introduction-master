{
 "cells": [
  {
   "cell_type": "code",
   "execution_count": 12,
   "id": "6fba99cf",
   "metadata": {},
   "outputs": [
    {
     "name": "stdout",
     "output_type": "stream",
     "text": [
      "2\n"
     ]
    }
   ],
   "source": [
    "import random\n",
    "\n",
    "print(random.randrange(1, 10)) #randrange not consider the last item"
   ]
  },
  {
   "cell_type": "markdown",
   "id": "f3d3e2c3",
   "metadata": {},
   "source": [
    "Caso 1. Generar un número aleatorio entre 1 y 20. Luego informar si el número tiene uno o dos dígitos."
   ]
  },
  {
   "cell_type": "code",
   "execution_count": 4,
   "id": "2d252f08",
   "metadata": {},
   "outputs": [
    {
     "name": "stdout",
     "output_type": "stream",
     "text": [
      "El número generado es: 2.00\n",
      "El valor generado tiene un dígito\n"
     ]
    }
   ],
   "source": [
    "import random\n",
    "aleatorio=random.randint(1,20) #randint returns a choice inclusive of the last item\n",
    "print(\"El número generado es: %.2f\"% (aleatorio))\n",
    "if aleatorio<10:\n",
    "    print(\"El valor generado tiene un dígito\")\n",
    "else:\n",
    "    print(\"El valor generado tiene dos dígitos\")"
   ]
  },
  {
   "cell_type": "markdown",
   "id": "c915a6ff",
   "metadata": {},
   "source": [
    "Caso 2. Crear un comparador de años. Se debe pedir el año actual y, después, un año aleatorio. Una vez introducidos estos datos, deben aparecer los siguientes mensajes:\n",
    "\n",
    "    Desde el año xxx han pasado yyy años.\n",
    "    Para llegar al año xxxx faltan yyy años.\n",
    "    xxx es la fecha que has puesto en segundo lugar (la que te apetecía).\n",
    "    yyy es la resta entre las dos fechas.\n",
    "    Los mensajes aparecerán según si la segunda fecha es mayor o menor a la actual."
   ]
  },
  {
   "cell_type": "code",
   "execution_count": 13,
   "id": "fdbb74b2",
   "metadata": {},
   "outputs": [
    {
     "name": "stdout",
     "output_type": "stream",
     "text": [
      "Comparador de años\n",
      "En qué año estamos?: 2022\n",
      "Escribe año aleatorio: 1998\n",
      "Desde el año 1998 han pasado 24 años\n"
     ]
    }
   ],
   "source": [
    "print(\"Comparador de años\")\n",
    "fecha1=int(input(\"En qué año estamos?: \"))\n",
    "fecha2=int(input(\"Escribe año aleatorio: \"))\n",
    "\n",
    "if fecha1>fecha2:\n",
    "    print(\"Desde el año\", fecha2, \"han pasado\", fecha1 - fecha2, \"años\")\n",
    "if fecha1<fecha2:\n",
    "    print(\"Hasta el año\", fecha2, \"faltan\", fecha2 - fecha1, \"años\")\n",
    "if fecha1==fecha2:\n",
    "    print(\"Son el mismo año!\")"
   ]
  },
  {
   "cell_type": "markdown",
   "id": "8dfa9edd",
   "metadata": {},
   "source": [
    "Caso 3. Escribir un programa que pida dos valores enteros y que imprima por pantalla:\n",
    "\n",
    "    Si el primero es menor que el segundo, que imprima el mensaje “Primero menor”.\n",
    "    Si el segundo es menor que el primero, que imprima el mensaje “Segundo menor”.\n",
    "    Si los números son iguales, que imprima el mensaje “Son iguales”."
   ]
  },
  {
   "cell_type": "code",
   "execution_count": 12,
   "id": "80123125",
   "metadata": {},
   "outputs": [
    {
     "name": "stdout",
     "output_type": "stream",
     "text": [
      "numero 1: 5\n",
      "numero 2: 2\n",
      "Segundo menor\n"
     ]
    }
   ],
   "source": [
    "num1=int(input(\"numero 1: \"))\n",
    "num2=int(input(\"numero 2: \"))\n",
    "\n",
    "if num1 < num2:\n",
    "    print(\"Primero menor\")\n",
    "elif num2 < num1:\n",
    "    print(\"Segundo menor\")\n",
    "else:\n",
    "    print(\"Son iguales\")"
   ]
  },
  {
   "cell_type": "markdown",
   "id": "2935fbde",
   "metadata": {},
   "source": [
    "Caso 4. Escribir un programa que pida un número entero y escriba por pantalla:\n",
    "\n",
    "    “El número introducido es PAR”, en el caso de que sea par.\n",
    "    “El número introducido es IMPAR”, en el caso de que sea impar."
   ]
  },
  {
   "cell_type": "code",
   "execution_count": 18,
   "id": "828593b4",
   "metadata": {},
   "outputs": [
    {
     "name": "stdout",
     "output_type": "stream",
     "text": [
      "numero 8\n",
      "El número introducido 8 es PAR\n"
     ]
    }
   ],
   "source": [
    "num=int(input(\"numero \"))\n",
    "\n",
    "if num %2 == 0:\n",
    "    print(\"El número introducido %d es PAR\"%(num))\n",
    "else:\n",
    "    print(\"El número introducido %d es IMPAR\"%(num))"
   ]
  },
  {
   "cell_type": "code",
   "execution_count": 18,
   "id": "2186ea8c",
   "metadata": {},
   "outputs": [
    {
     "name": "stdout",
     "output_type": "stream",
     "text": [
      "numero 8\n",
      "El número introducido 8 es PAR\n"
     ]
    }
   ],
   "source": [
    "num=int(input(\"numero \"))\n",
    "if num %2 != 0:\n",
    "    print(\"El número introducido %d es IMPAR\"%(num))\n",
    "else:\n",
    "    print(\"El número introducido %d es PAR\"%(num))"
   ]
  },
  {
   "cell_type": "code",
   "execution_count": 20,
   "id": "434bda2b",
   "metadata": {},
   "outputs": [
    {
     "name": "stdout",
     "output_type": "stream",
     "text": [
      "True\n"
     ]
    }
   ],
   "source": [
    "b = (True if 5 > 4 else False)\n",
    "print (b)"
   ]
  },
  {
   "cell_type": "code",
   "execution_count": 1,
   "id": "19541dcd",
   "metadata": {},
   "outputs": [
    {
     "name": "stdout",
     "output_type": "stream",
     "text": [
      "10\n"
     ]
    }
   ],
   "source": [
    "a, b = 10, 20\n",
    "min = a if a < b else b\n",
    "print(min)"
   ]
  },
  {
   "cell_type": "code",
   "execution_count": null,
   "id": "70ffc3f4",
   "metadata": {},
   "outputs": [],
   "source": []
  }
 ],
 "metadata": {
  "kernelspec": {
   "display_name": "Python 3 (ipykernel)",
   "language": "python",
   "name": "python3"
  },
  "language_info": {
   "codemirror_mode": {
    "name": "ipython",
    "version": 3
   },
   "file_extension": ".py",
   "mimetype": "text/x-python",
   "name": "python",
   "nbconvert_exporter": "python",
   "pygments_lexer": "ipython3",
   "version": "3.11.4"
  }
 },
 "nbformat": 4,
 "nbformat_minor": 5
}
