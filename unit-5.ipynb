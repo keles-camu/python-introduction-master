{
 "cells": [
  {
   "cell_type": "code",
   "execution_count": 55,
   "id": "a59152d8",
   "metadata": {},
   "outputs": [],
   "source": [
    "lista = [2,'DAM',False,[1, 2]]\n",
    "\n",
    "valor = lista[0] # valor vale 2\n",
    "valor = lista[1] # valor vale “DAM”\n",
    "valor = lista[3][0] # valor 1"
   ]
  },
  {
   "cell_type": "code",
   "execution_count": 8,
   "id": "2e534e2e",
   "metadata": {},
   "outputs": [
    {
     "name": "stdout",
     "output_type": "stream",
     "text": [
      "<class 'int'>\n",
      "<class 'str'>\n",
      "[2, 'DAM']\n"
     ]
    }
   ],
   "source": [
    "lista = [2,'DAM',False,[1, 2]]\n",
    "\n",
    "print (type(lista[0]))\n",
    "print (type(lista[1]))\n",
    "print (lista[0:2])"
   ]
  },
  {
   "cell_type": "markdown",
   "id": "5bc420f1",
   "metadata": {},
   "source": [
    "Caso 1. Lee una cadena de texto del usuario y para cada letra indica si es una vocal o una consonante."
   ]
  },
  {
   "cell_type": "code",
   "execution_count": 32,
   "id": "890597af",
   "metadata": {},
   "outputs": [
    {
     "name": "stdout",
     "output_type": "stream",
     "text": [
      "Introduce una cadena de texto: hola\n",
      "El valor h es una consonante\n",
      "El valor o es una vocal\n",
      "El valor l es una consonante\n",
      "El valor a es una vocal\n"
     ]
    }
   ],
   "source": [
    "cadena = input('Introduce una cadena de texto: ')\n",
    "vocales = ['a', 'e', 'i', 'o', 'u']\n",
    "\n",
    "for i in cadena:\n",
    "    if i in vocales:\n",
    "        print('El valor %s es una vocal'%(i))\n",
    "    else:\n",
    "        print('El valor %s es una consonante'%(i))"
   ]
  },
  {
   "cell_type": "markdown",
   "id": "3ada2510",
   "metadata": {},
   "source": [
    "Caso 2. Si tenemos una lista con nombres de ciudades, que muestre las ciudades que empiecen con la letra m."
   ]
  },
  {
   "cell_type": "code",
   "execution_count": 34,
   "id": "21b33cc3",
   "metadata": {},
   "outputs": [
    {
     "name": "stdout",
     "output_type": "stream",
     "text": [
      "Madrid\n",
      "Milán\n",
      "Murcia\n"
     ]
    }
   ],
   "source": [
    "cities = ['Barcelona', 'Madrid', 'Milán', 'Toledo', 'Murcia', 'Valencia']\n",
    "\n",
    "for i in cities:\n",
    "    if i.lower().startswith('m'):\n",
    "        print(i)"
   ]
  },
  {
   "cell_type": "code",
   "execution_count": 35,
   "id": "b3b4fc00",
   "metadata": {},
   "outputs": [
    {
     "name": "stdout",
     "output_type": "stream",
     "text": [
      "Madrid\n",
      "Milán\n",
      "Murcia\n"
     ]
    }
   ],
   "source": [
    "cities = ['Barcelona', 'Madrid', 'Milán', 'Toledo', 'Murcia', 'Valencia']\n",
    "\n",
    "for i in cities:\n",
    "    if i.startswith('M'):\n",
    "        print(i)"
   ]
  },
  {
   "cell_type": "markdown",
   "id": "f064dbd2",
   "metadata": {},
   "source": [
    "Caso 3. Escriba un programa de Python para imprimir los números de una lista especificada después de y que cree una nueva solo con los números pares."
   ]
  },
  {
   "cell_type": "code",
   "execution_count": 39,
   "id": "c12afdc8",
   "metadata": {},
   "outputs": [
    {
     "name": "stdout",
     "output_type": "stream",
     "text": [
      "lista original [2, 3, 5, 6, 7, 10]\n",
      "lista de número pares [2, 6, 10]\n"
     ]
    }
   ],
   "source": [
    "list = [2,3,5,6,7,10]\n",
    "pares = []\n",
    "\n",
    "for i in list:\n",
    "    if i%2 == 0:\n",
    "        pares.append(i)\n",
    "\n",
    "print ('lista original', list)\n",
    "print ('lista de número pares', pares)"
   ]
  },
  {
   "cell_type": "markdown",
   "id": "22294e29",
   "metadata": {},
   "source": [
    "Ejercicio 1\n",
    "\n",
    "Si se tiene la siguiente lista: lista[\"SGE\",3.0,[\"A\",\"B\"],10,\"FINAL\"], indicar qué devolverá cada uno de los siguientes casos:\n",
    "\n",
    "    print (type(lista[2][1])) \n",
    "    print (lista[2][1]) \n",
    "    print (lista[0:3:1])\n",
    "    print (lista[0:4])\n",
    "    print (lista[1][1])\n",
    "    lista[2][2]=\"z\""
   ]
  },
  {
   "cell_type": "code",
   "execution_count": 2,
   "id": "2de990a3",
   "metadata": {},
   "outputs": [],
   "source": [
    "lista = [\"SGE\",3.0,[\"A\",\"B\"],10,\"FINAL\"]"
   ]
  },
  {
   "cell_type": "code",
   "execution_count": 3,
   "id": "bac7dfb3",
   "metadata": {},
   "outputs": [
    {
     "name": "stdout",
     "output_type": "stream",
     "text": [
      "<class 'str'>\n"
     ]
    }
   ],
   "source": [
    "print (type(lista[2][1])) "
   ]
  },
  {
   "cell_type": "code",
   "execution_count": 4,
   "id": "43225486",
   "metadata": {},
   "outputs": [
    {
     "name": "stdout",
     "output_type": "stream",
     "text": [
      "B\n"
     ]
    }
   ],
   "source": [
    "print (lista[2][1]) "
   ]
  },
  {
   "cell_type": "code",
   "execution_count": 5,
   "id": "1b417a87",
   "metadata": {},
   "outputs": [
    {
     "name": "stdout",
     "output_type": "stream",
     "text": [
      "['SGE', 3.0, ['A', 'B']]\n"
     ]
    }
   ],
   "source": [
    "print (lista[0:3:1])"
   ]
  },
  {
   "cell_type": "code",
   "execution_count": 6,
   "id": "23828c1f",
   "metadata": {},
   "outputs": [
    {
     "name": "stdout",
     "output_type": "stream",
     "text": [
      "['SGE', 3.0, ['A', 'B'], 10]\n"
     ]
    }
   ],
   "source": [
    "print (lista[0:4])"
   ]
  },
  {
   "cell_type": "code",
   "execution_count": 1,
   "id": "25308039",
   "metadata": {},
   "outputs": [
    {
     "ename": "NameError",
     "evalue": "name 'lista' is not defined",
     "output_type": "error",
     "traceback": [
      "\u001b[0;31m---------------------------------------------------------------------------\u001b[0m",
      "\u001b[0;31mNameError\u001b[0m                                 Traceback (most recent call last)",
      "Input \u001b[0;32mIn [1]\u001b[0m, in \u001b[0;36m<cell line: 1>\u001b[0;34m()\u001b[0m\n\u001b[0;32m----> 1\u001b[0m \u001b[38;5;28mprint\u001b[39m (\u001b[43mlista\u001b[49m[\u001b[38;5;241m1\u001b[39m][\u001b[38;5;241m1\u001b[39m])\n",
      "\u001b[0;31mNameError\u001b[0m: name 'lista' is not defined"
     ]
    }
   ],
   "source": [
    "print (lista[1][1])"
   ]
  },
  {
   "cell_type": "code",
   "execution_count": 8,
   "id": "e7a9283b",
   "metadata": {},
   "outputs": [
    {
     "ename": "IndexError",
     "evalue": "list assignment index out of range",
     "output_type": "error",
     "traceback": [
      "\u001b[0;31m---------------------------------------------------------------------------\u001b[0m",
      "\u001b[0;31mIndexError\u001b[0m                                Traceback (most recent call last)",
      "Input \u001b[0;32mIn [8]\u001b[0m, in \u001b[0;36m<cell line: 1>\u001b[0;34m()\u001b[0m\n\u001b[0;32m----> 1\u001b[0m lista[\u001b[38;5;241m2\u001b[39m][\u001b[38;5;241m2\u001b[39m]\u001b[38;5;241m=\u001b[39m\u001b[38;5;124m'\u001b[39m\u001b[38;5;124mz\u001b[39m\u001b[38;5;124m'\u001b[39m\n",
      "\u001b[0;31mIndexError\u001b[0m: list assignment index out of range"
     ]
    }
   ],
   "source": [
    "lista[2][2]='z'"
   ]
  },
  {
   "cell_type": "markdown",
   "id": "d3a5d844",
   "metadata": {},
   "source": [
    "Ejercicio 2\n",
    "\n",
    "Si se tiene la siguiente lista: lista[\"A\",\"B\",\"C\",1,2,[\"LUNES\",\"MARTES\"]], indicar qué devolverá cada uno de los siguientes casos:\n",
    "\n",
    "    Añadir la letra z b. Indicar la longitud de la lista c.print (lista[::4])\n",
    "    print (lista[0:3:2]) e. print (lista[-1][0]) f.print (lista[2::1])"
   ]
  },
  {
   "cell_type": "code",
   "execution_count": 9,
   "id": "bb7673f5",
   "metadata": {},
   "outputs": [],
   "source": [
    "lista=[\"A\",\"B\",\"C\",1,2,[\"LUNES\",\"MARTES\"]]"
   ]
  },
  {
   "cell_type": "code",
   "execution_count": 10,
   "id": "4e811256",
   "metadata": {},
   "outputs": [
    {
     "name": "stdout",
     "output_type": "stream",
     "text": [
      "['A', 'B', 'C', 1, 2, ['LUNES', 'MARTES'], 'z']\n"
     ]
    }
   ],
   "source": [
    "#a. Añadir la letra z\n",
    "\n",
    "lista.append(\"z\")\n",
    "print(lista)"
   ]
  },
  {
   "cell_type": "code",
   "execution_count": 11,
   "id": "64c1ab97",
   "metadata": {},
   "outputs": [
    {
     "name": "stdout",
     "output_type": "stream",
     "text": [
      "7\n"
     ]
    }
   ],
   "source": [
    "#b. Indicar la longitud de la lista\n",
    "\n",
    "print(len(lista))"
   ]
  },
  {
   "cell_type": "code",
   "execution_count": 12,
   "id": "a66a7e91",
   "metadata": {},
   "outputs": [
    {
     "name": "stdout",
     "output_type": "stream",
     "text": [
      "['A', 2]\n"
     ]
    }
   ],
   "source": [
    "#c. print (lista[::4])\n",
    "\n",
    "print(lista[::4])"
   ]
  },
  {
   "cell_type": "code",
   "execution_count": 13,
   "id": "63f42e9d",
   "metadata": {},
   "outputs": [
    {
     "name": "stdout",
     "output_type": "stream",
     "text": [
      "['A', 'C']\n"
     ]
    }
   ],
   "source": [
    "#d. print (lista[0:3:2])\n",
    "\n",
    "print(lista[0:3:2])"
   ]
  },
  {
   "cell_type": "code",
   "execution_count": 17,
   "id": "6b9337f9",
   "metadata": {},
   "outputs": [
    {
     "name": "stdout",
     "output_type": "stream",
     "text": [
      "z\n"
     ]
    }
   ],
   "source": [
    "# e. print (lista[-1][0])\n",
    "\n",
    "print(lista[-1][0])"
   ]
  },
  {
   "cell_type": "code",
   "execution_count": 15,
   "id": "04829408",
   "metadata": {},
   "outputs": [
    {
     "name": "stdout",
     "output_type": "stream",
     "text": [
      "['C', 1, 2, ['LUNES', 'MARTES'], 'z']\n"
     ]
    }
   ],
   "source": [
    "# f.print (lista[2::1])\n",
    "\n",
    "print(lista[2::1])"
   ]
  },
  {
   "cell_type": "markdown",
   "id": "003a9c0e",
   "metadata": {},
   "source": [
    "Ejercicio 3\n",
    "\n",
    "Basándose en la siguiente lista, a = [66.25, 333, 333, 1, 1234.5]:\n",
    "\n",
    "    Cuántas veces se repite 333 y 66.25 y 'x'.\n",
    "    Insertar en la posición 2 un -1 a.insert(2, -1).\n",
    "    Añade al final un nuevo 333 a.append(333).\n",
    "    Ordena la lista."
   ]
  },
  {
   "cell_type": "code",
   "execution_count": 31,
   "id": "592149a6",
   "metadata": {},
   "outputs": [],
   "source": [
    "a = [66.25, 333, 333, 1, 1234.5]"
   ]
  },
  {
   "cell_type": "code",
   "execution_count": 32,
   "id": "78613569",
   "metadata": {},
   "outputs": [
    {
     "name": "stdout",
     "output_type": "stream",
     "text": [
      "2\n"
     ]
    }
   ],
   "source": [
    "print(a.count(333))"
   ]
  },
  {
   "cell_type": "code",
   "execution_count": 33,
   "id": "52bad58a",
   "metadata": {},
   "outputs": [
    {
     "name": "stdout",
     "output_type": "stream",
     "text": [
      "1\n"
     ]
    }
   ],
   "source": [
    "print(a.count(66.25))"
   ]
  },
  {
   "cell_type": "code",
   "execution_count": 34,
   "id": "3e258d40",
   "metadata": {},
   "outputs": [
    {
     "name": "stdout",
     "output_type": "stream",
     "text": [
      "0\n"
     ]
    }
   ],
   "source": [
    "print(a.count('x'))"
   ]
  },
  {
   "cell_type": "code",
   "execution_count": 35,
   "id": "7c44b9de",
   "metadata": {},
   "outputs": [
    {
     "name": "stdout",
     "output_type": "stream",
     "text": [
      "[66.25, 333, -1, 333, 1, 1234.5]\n"
     ]
    }
   ],
   "source": [
    "a.insert(2, -1)\n",
    "print(a)"
   ]
  },
  {
   "cell_type": "code",
   "execution_count": 36,
   "id": "2abeef2e",
   "metadata": {},
   "outputs": [
    {
     "name": "stdout",
     "output_type": "stream",
     "text": [
      "[66.25, 333, -1, 333, 1, 1234.5, 333]\n"
     ]
    }
   ],
   "source": [
    "a.append(333)\n",
    "print(a)"
   ]
  },
  {
   "cell_type": "code",
   "execution_count": 37,
   "id": "eeebfb59",
   "metadata": {},
   "outputs": [
    {
     "name": "stdout",
     "output_type": "stream",
     "text": [
      "[-1, 1, 66.25, 333, 333, 333, 1234.5]\n"
     ]
    }
   ],
   "source": [
    "a.sort()\n",
    "print(a)"
   ]
  }
 ],
 "metadata": {
  "kernelspec": {
   "display_name": "Python 3 (ipykernel)",
   "language": "python",
   "name": "python3"
  },
  "language_info": {
   "codemirror_mode": {
    "name": "ipython",
    "version": 3
   },
   "file_extension": ".py",
   "mimetype": "text/x-python",
   "name": "python",
   "nbconvert_exporter": "python",
   "pygments_lexer": "ipython3",
   "version": "3.11.4"
  }
 },
 "nbformat": 4,
 "nbformat_minor": 5
}
