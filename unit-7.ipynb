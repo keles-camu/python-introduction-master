{
 "cells": [
  {
   "cell_type": "markdown",
   "id": "9097318c",
   "metadata": {},
   "source": [
    "Caso 1. Escribe un programa que te pida varias palabras y te diga cuál es la más larga (si hay varias, que conteste una cualquiera).\n",
    "\n",
    "La palabra más larga:\n",
    "\n",
    "Dime una palabra: Melchor\n",
    "\n",
    "Dime una palabra: Gaspar\n",
    "\n",
    "Dime una palabra: Baltasar\n",
    "\n",
    "Dime una palabra:\n",
    "\n",
    "Y la palabra más larga es... ¡Baltasar!"
   ]
  },
  {
   "cell_type": "code",
   "execution_count": null,
   "id": "85ad98d1",
   "metadata": {},
   "outputs": [],
   "source": [
    "print('La palabra más larga')\n",
    "\n",
    "palabra = input('Dime una palabra ').lower() #lower: returns a string where all characters are lower case\n",
    "longitudMax = 0\n",
    "\n",
    "while (palabra.isalpha()): #isalpha: check if all the characters in the text are letters\n",
    "    palabra = input ('Dime una palabra: ')\n",
    "    if len (palabra) > longitudMax:\n",
    "        palabraMax = palabra\n",
    "        logitudMax = len(palabra)\n",
    "\n",
    "print('Y la palabra más larga es ' + palabraMax + '!')"
   ]
  },
  {
   "cell_type": "markdown",
   "id": "29e897a4",
   "metadata": {},
   "source": [
    "Caso 2. Escriba un programa que permita crear varias listas de palabras. Para ello, el programa tiene que pedir la cantidad de listas y luego pedir las palabras que forman cada lista, teniendo en cuenta que la primera lista contendrá solo una palabra, la segunda, dos palabras y así sucesivamente. Finalmente, el programa mostrará una lista que contenga todas las listas.\n",
    "\n",
    "Dígame cuántas listas va a escribir: 3\n",
    "\n",
    "Lista 1\n",
    "\n",
    "Dígame la palabra 1: a\n",
    "\n",
    "Lista 2\n",
    "\n",
    "Dígame la palabra 1: b\n",
    "\n",
    "Dígame la palabra 2: bb\n",
    "\n",
    "Lista 3\n",
    "\n",
    "Dígame la palabra 1: c\n",
    "\n",
    "Dígame la palabra 2: cc\n",
    "\n",
    "Dígame la palabra 3: ccc\n",
    "\n",
    "Resultado: [['a'], ['b', 'bb'], ['c', 'cc', 'ccc']]\n",
    "\n",
    "Dígame cuántas listas va a escribir: -1\n",
    "\n",
    "¡Imposible!"
   ]
  },
  {
   "cell_type": "code",
   "execution_count": 5,
   "id": "000accd0",
   "metadata": {},
   "outputs": [
    {
     "name": "stdout",
     "output_type": "stream",
     "text": [
      "Dígame cuántas listas va a escribir: 3\n",
      "\n",
      "Lista 1\n",
      "Dígame la palabra 1: a\n",
      "\n",
      "Resultado:  [['a']]\n",
      "\n",
      "Lista 2\n",
      "Dígame la palabra 1: b\n",
      "Dígame la palabra 2: bb\n",
      "\n",
      "Resultado:  [['a'], ['b', 'bb']]\n",
      "\n",
      "Lista 3\n",
      "Dígame la palabra 1: c\n",
      "Dígame la palabra 2: cc\n",
      "Dígame la palabra 3: ccc\n",
      "\n",
      "Resultado:  [['a'], ['b', 'bb'], ['c', 'cc', 'ccc']]\n"
     ]
    }
   ],
   "source": [
    "total_lista = int(input('Dígame cuántas listas va a escribir: '))\n",
    "\n",
    "if total_lista < 1:\n",
    "    print ('Imposible!')\n",
    "else:\n",
    "    result_lista = []\n",
    "    for i in range (total_lista):\n",
    "        print ('\\nLista', i + 1)\n",
    "        lista = []\n",
    "        \n",
    "        for i in range (i + 1):\n",
    "            palabra = input (f'Dígame la palabra {i + 1}: ')\n",
    "            while (palabra.isalpha() == False):\n",
    "                palabra = input (f'Dígame la palabra {i + 1}: ')\n",
    "            lista.append(palabra)\n",
    "        result_lista.append(lista)\n",
    "        \n",
    "        print('\\nResultado: ', result_lista)"
   ]
  },
  {
   "cell_type": "code",
   "execution_count": 6,
   "id": "e61b5d35",
   "metadata": {},
   "outputs": [
    {
     "name": "stdout",
     "output_type": "stream",
     "text": [
      "Dígame cuántas listas va a escribir: -1\n",
      "Imposible!\n"
     ]
    }
   ],
   "source": [
    "total_lista = int(input('Dígame cuántas listas va a escribir: '))\n",
    "\n",
    "if total_lista < 1:\n",
    "    print ('Imposible!')\n",
    "else:\n",
    "    result_lista = []\n",
    "    for i in range (total_lista):\n",
    "        print ('\\nLista', i + 1)\n",
    "        lista = []\n",
    "        \n",
    "        for i in range (i + 1):\n",
    "            palabra = input (f'Dígame la palabra {i + 1}: ')\n",
    "            while (palabra.isalpha() == False):\n",
    "                palabra = input (f'Dígame la palabra {i + 1}: ')\n",
    "            lista.append(palabra)\n",
    "        result_lista.append(lista)\n",
    "        \n",
    "        print('\\nResultado: ', result_lista)"
   ]
  },
  {
   "cell_type": "markdown",
   "id": "4d70ec3b",
   "metadata": {},
   "source": [
    "Ejercicio 1. Crear un diccionario con tres elementos (almacenar como clave el nombre de una fruta y como valor su precio). Luego, hacer las siguientes operaciones:\n",
    "- Agregar un cuarto elemento.\n",
    "- Imprimir la cantidad de elementos del diccionario.\n",
    "- Borrar un elemento del diccionario.\n",
    "- Imprimir todas las claves.\n",
    "- Imprimir todos los valores.\n",
    "- Imprimir claves y valores.\n",
    "- Borrar el diccionario."
   ]
  },
  {
   "cell_type": "code",
   "execution_count": 9,
   "id": "da56364b",
   "metadata": {},
   "outputs": [
    {
     "name": "stdout",
     "output_type": "stream",
     "text": [
      "{'orange': 2.5, 'banana': 1.25, 'apple': 1.5}\n"
     ]
    }
   ],
   "source": [
    "fruit = {\n",
    "    'orange': 2.5,\n",
    "    'banana': 1.25,\n",
    "    'apple': 1.5\n",
    "}\n",
    "\n",
    "print(fruit)"
   ]
  },
  {
   "cell_type": "code",
   "execution_count": 10,
   "id": "3cd663d6",
   "metadata": {},
   "outputs": [
    {
     "name": "stdout",
     "output_type": "stream",
     "text": [
      "{'orange': 2.5, 'banana': 1.25, 'apple': 1.5, 'cherry': 0.7}\n"
     ]
    }
   ],
   "source": [
    "fruit['cherry'] = 0.7\n",
    "\n",
    "print(fruit)"
   ]
  },
  {
   "cell_type": "code",
   "execution_count": 11,
   "id": "1b7f68af",
   "metadata": {},
   "outputs": [
    {
     "name": "stdout",
     "output_type": "stream",
     "text": [
      "4\n"
     ]
    }
   ],
   "source": [
    "print(len(fruit))"
   ]
  },
  {
   "cell_type": "code",
   "execution_count": 12,
   "id": "d93b3bb4",
   "metadata": {},
   "outputs": [
    {
     "name": "stdout",
     "output_type": "stream",
     "text": [
      "{'orange': 2.5, 'banana': 1.25, 'cherry': 0.7}\n"
     ]
    }
   ],
   "source": [
    "del fruit['apple']\n",
    "\n",
    "print(fruit) "
   ]
  },
  {
   "cell_type": "code",
   "execution_count": 25,
   "id": "96a5a3c9",
   "metadata": {},
   "outputs": [
    {
     "name": "stdout",
     "output_type": "stream",
     "text": [
      "dict_keys(['orange', 'banana', 'cherry'])\n",
      "orange\n",
      "banana\n",
      "cherry\n"
     ]
    }
   ],
   "source": [
    "print(fruit.keys())\n",
    "\n",
    "for x in fruit.keys():\n",
    "    print(x)"
   ]
  },
  {
   "cell_type": "code",
   "execution_count": 27,
   "id": "a2a3fe7c",
   "metadata": {},
   "outputs": [
    {
     "name": "stdout",
     "output_type": "stream",
     "text": [
      "dict_values([2.5, 1.25, 0.7])\n",
      "2.5\n",
      "1.25\n",
      "0.7\n"
     ]
    }
   ],
   "source": [
    "print(fruit.values())\n",
    "\n",
    "for x in fruit:\n",
    "    print(fruit[x])"
   ]
  },
  {
   "cell_type": "code",
   "execution_count": 28,
   "id": "8c781a93",
   "metadata": {},
   "outputs": [
    {
     "name": "stdout",
     "output_type": "stream",
     "text": [
      "orange 2.5\n",
      "banana 1.25\n",
      "cherry 0.7\n"
     ]
    }
   ],
   "source": [
    "for x, y in fruit.items():\n",
    "    print(x, y)"
   ]
  },
  {
   "cell_type": "code",
   "execution_count": 29,
   "id": "ccedb8ce",
   "metadata": {},
   "outputs": [
    {
     "name": "stdout",
     "output_type": "stream",
     "text": [
      "{}\n"
     ]
    }
   ],
   "source": [
    "fruit.clear()\n",
    "\n",
    "print(fruit)"
   ]
  },
  {
   "cell_type": "code",
   "execution_count": 31,
   "id": "17bec5cd",
   "metadata": {},
   "outputs": [
    {
     "ename": "NameError",
     "evalue": "name 'fruit' is not defined",
     "output_type": "error",
     "traceback": [
      "\u001b[0;31m---------------------------------------------------------------------------\u001b[0m",
      "\u001b[0;31mNameError\u001b[0m                                 Traceback (most recent call last)",
      "Input \u001b[0;32mIn [31]\u001b[0m, in \u001b[0;36m<cell line: 3>\u001b[0;34m()\u001b[0m\n\u001b[1;32m      1\u001b[0m \u001b[38;5;28;01mdel\u001b[39;00m(fruit)\n\u001b[0;32m----> 3\u001b[0m \u001b[38;5;28mprint\u001b[39m(\u001b[43mfruit\u001b[49m)\n",
      "\u001b[0;31mNameError\u001b[0m: name 'fruit' is not defined"
     ]
    }
   ],
   "source": [
    "del(fruit)\n",
    "\n",
    "print(fruit)"
   ]
  },
  {
   "cell_type": "markdown",
   "id": "17463c11",
   "metadata": {},
   "source": [
    "Ejercicio 2. Crear un diccionario asociando nombres de países y cantidades de habitantes. Mostrar el país que tiene más habitantes.\n",
    "\n",
    "Países={'argentina':40000000,'españa':46000000,'brasil':190000000}"
   ]
  },
  {
   "cell_type": "code",
   "execution_count": 34,
   "id": "f5db0d5c",
   "metadata": {},
   "outputs": [
    {
     "name": "stdout",
     "output_type": "stream",
     "text": [
      "190000000\n"
     ]
    }
   ],
   "source": [
    "paises = {\n",
    "    'Argentina': 40000000,\n",
    "    'Spain': 46000000,\n",
    "    'Brasil': 190000000\n",
    "}\n",
    "\n",
    "#Primero, convertir en lista atendiendo a valores, que es el dato que interesa para la tarea\n",
    "lista=[]\n",
    "for i in paises.values():\n",
    "    lista.append(i)\n",
    "    \n",
    "print(max(lista))"
   ]
  }
 ],
 "metadata": {
  "kernelspec": {
   "display_name": "Python 3 (ipykernel)",
   "language": "python",
   "name": "python3"
  },
  "language_info": {
   "codemirror_mode": {
    "name": "ipython",
    "version": 3
   },
   "file_extension": ".py",
   "mimetype": "text/x-python",
   "name": "python",
   "nbconvert_exporter": "python",
   "pygments_lexer": "ipython3",
   "version": "3.11.4"
  }
 },
 "nbformat": 4,
 "nbformat_minor": 5
}
