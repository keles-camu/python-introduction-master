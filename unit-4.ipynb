{
 "cells": [
  {
   "cell_type": "code",
   "execution_count": 13,
   "id": "ac60feba",
   "metadata": {},
   "outputs": [
    {
     "name": "stdout",
     "output_type": "stream",
     "text": [
      "0 is less than 5\n",
      "1 is less than 5\n",
      "2 is less than 5\n",
      "3 is less than 5\n",
      "4 is less than 5\n"
     ]
    }
   ],
   "source": [
    "count = 0\n",
    "\n",
    "while count < 5:\n",
    "    print (count, \"is less than 5\")\n",
    "    count = count+1 #de manera abreviada: count += 1"
   ]
  },
  {
   "cell_type": "code",
   "execution_count": 13,
   "id": "1e2d893b",
   "metadata": {},
   "outputs": [
    {
     "name": "stdout",
     "output_type": "stream",
     "text": [
      "ana\n",
      "maria\n",
      "sol\n"
     ]
    }
   ],
   "source": [
    "for i in \"ana\",\"maria\",\"sol\":\n",
    "    print (i)"
   ]
  },
  {
   "cell_type": "code",
   "execution_count": 10,
   "id": "f77602e1",
   "metadata": {},
   "outputs": [
    {
     "name": "stdout",
     "output_type": "stream",
     "text": [
      "ana\n",
      "mario\n",
      "sol\n"
     ]
    }
   ],
   "source": [
    "lista=[\"ana\",\"mario\",\"sol\"]\n",
    "for i in lista:\n",
    "    print (i)"
   ]
  },
  {
   "cell_type": "code",
   "execution_count": 4,
   "id": "5fadb402",
   "metadata": {},
   "outputs": [
    {
     "name": "stdout",
     "output_type": "stream",
     "text": [
      "0\n",
      "1\n",
      "2\n",
      "3\n",
      "4\n"
     ]
    }
   ],
   "source": [
    "for contar in range (5):\n",
    "    print (contar)"
   ]
  },
  {
   "cell_type": "code",
   "execution_count": 5,
   "id": "104aa45b",
   "metadata": {},
   "outputs": [
    {
     "name": "stdout",
     "output_type": "stream",
     "text": [
      "0\n",
      "1\n",
      "2\n",
      "3\n",
      "4\n",
      "5\n",
      "6\n",
      "7\n",
      "8\n",
      "9\n"
     ]
    }
   ],
   "source": [
    "for contar in range (0,10):\n",
    "    print (contar)"
   ]
  },
  {
   "cell_type": "code",
   "execution_count": 6,
   "id": "24990ed1",
   "metadata": {},
   "outputs": [
    {
     "name": "stdout",
     "output_type": "stream",
     "text": [
      "0\n",
      "2\n",
      "4\n",
      "6\n",
      "8\n"
     ]
    }
   ],
   "source": [
    "for contar in range (0,10,2):\n",
    "    print (contar)"
   ]
  },
  {
   "cell_type": "markdown",
   "id": "500a525c",
   "metadata": {},
   "source": [
    "Caso 1. Imprimir los números impares desde el 1 al 25, ambos inclusive."
   ]
  },
  {
   "cell_type": "code",
   "execution_count": 39,
   "id": "d970d7af",
   "metadata": {},
   "outputs": [
    {
     "name": "stdout",
     "output_type": "stream",
     "text": [
      " 1 3 5 7 9 11 13 15 17 19 21 23 25\n"
     ]
    }
   ],
   "source": [
    "n = 1\n",
    "h = \"\"\n",
    "\n",
    "while n <= 25:\n",
    "    if n%2 != 0:\n",
    "        h += \" %i\"%(n)\n",
    "    n += 1\n",
    "\n",
    "print(h)"
   ]
  },
  {
   "cell_type": "markdown",
   "id": "e82cdd23",
   "metadata": {},
   "source": [
    "Caso 2. Realizar un programa que pida cinco números decimales, calcular su media e informar del resultado por pantalla."
   ]
  },
  {
   "cell_type": "code",
   "execution_count": 2,
   "id": "ef336114",
   "metadata": {},
   "outputs": [
    {
     "name": "stdout",
     "output_type": "stream",
     "text": [
      "Introduce un número 5.5\n",
      "Introduce un número 2\n",
      "Introduce un número 4\n",
      "Introduce un número 1\n",
      "Introduce un número 1\n",
      "La media es 2.70\n"
     ]
    }
   ],
   "source": [
    "count = 0\n",
    "\n",
    "for i in range (0,5):\n",
    "    num = float(input(\"Introduce un número \"))\n",
    "    count += num\n",
    "\n",
    "media = count/5\n",
    "\n",
    "print(\"La media es %.2f\"% (media))"
   ]
  },
  {
   "cell_type": "markdown",
   "id": "298b74de",
   "metadata": {},
   "source": [
    "Caso 3. Escribir un programa que pregunte cuántos números se van a introducir, pedir esos números y escribir cuántos negativos ha introducido."
   ]
  },
  {
   "cell_type": "code",
   "execution_count": 49,
   "id": "4e1a593f",
   "metadata": {},
   "outputs": [
    {
     "name": "stdout",
     "output_type": "stream",
     "text": [
      "Números a introducir 2\n",
      "Valores a comprobar 1\n",
      "Valores a comprobar -1\n",
      "El número de valores negativos es  1\n"
     ]
    }
   ],
   "source": [
    "num = int(input(\"Números a introducir \"))\n",
    "i = 0\n",
    "cont = 0\n",
    "\n",
    "while i < num:\n",
    "    valor = int(input(\"Valores a comprobar \"))\n",
    "    if valor < 0:\n",
    "        cont += 1\n",
    "    i += 1\n",
    "\n",
    "print(\"El número de valores negativos es \", cont)"
   ]
  },
  {
   "cell_type": "markdown",
   "id": "0f844d22",
   "metadata": {},
   "source": [
    "Caso 4. Realizar un programa que muestre por pantalla la siguiente secuencia:\n",
    "\n",
    "1 2 3 4 5 6 7 8 9 10 11 12 13 14 15 16 17 18 19 20"
   ]
  },
  {
   "cell_type": "code",
   "execution_count": 17,
   "id": "327c3558",
   "metadata": {},
   "outputs": [
    {
     "name": "stdout",
     "output_type": "stream",
     "text": [
      "1 * 2 * 3 * 4 * 5 * 6 * 7 * 8 * 9 * 10 * 11 * 12 * 13 * 14 * 15 * 16 * 17 * 18 * 19 * 20 * "
     ]
    }
   ],
   "source": [
    "for i in range (1,21):\n",
    "    print(i,end=\" * \")"
   ]
  }
 ],
 "metadata": {
  "kernelspec": {
   "display_name": "Python 3 (ipykernel)",
   "language": "python",
   "name": "python3"
  },
  "language_info": {
   "codemirror_mode": {
    "name": "ipython",
    "version": 3
   },
   "file_extension": ".py",
   "mimetype": "text/x-python",
   "name": "python",
   "nbconvert_exporter": "python",
   "pygments_lexer": "ipython3",
   "version": "3.11.4"
  }
 },
 "nbformat": 4,
 "nbformat_minor": 5
}
