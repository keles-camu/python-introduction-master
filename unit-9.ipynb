{
 "cells": [
  {
   "cell_type": "markdown",
   "id": "8a9a1678",
   "metadata": {},
   "source": [
    "Caso 1. Las notas de un ramo están almacenadas en un archivo llamado notas.txt, que contiene lo siguiente:\n",
    "\n",
    "Pepito:5.3:3.7:6.7:6.7:7.1:5.5\n",
    "\n",
    "Yayita:5.5:5.2:2.0:5.6:6.0:2.0\n",
    "\n",
    "Fulanita:7.1:6.6:6.4:5.1:5.8:6.3\n",
    "\n",
    "Moya:5.2:4.7:1.8:3.5:2.7:4.5\n",
    "\n",
    "Cada línea tiene el nombre del alumno y sus seis notas, separadas por dos puntos (”:”).\n",
    "\n",
    "Escriba un programa que pinte aprobado o reprobado, en el que cada línea indique si el alumno está aprobado (promedio ≥ 4,0) o reprobado (promedio < 4,0):"
   ]
  },
  {
   "cell_type": "code",
   "execution_count": 8,
   "id": "01964145",
   "metadata": {},
   "outputs": [
    {
     "name": "stdout",
     "output_type": "stream",
     "text": [
      "Pepito aprobado\n",
      "Yayita aprobado\n",
      "Fulanita aprobado\n",
      "Moya reprobado\n"
     ]
    }
   ],
   "source": [
    "file = open('notas.txt')\n",
    "\n",
    "for paragraph in file:\n",
    "    splite_paragraph = paragraph.strip().split(':')\n",
    "    name = splite_paragraph[0]\n",
    "    notes = list(map(float,splite_paragraph[1:])) #Casteamos a lista\n",
    "    mean = sum(notes)/len(notes)\n",
    "    if mean < 4:\n",
    "        print(name,'reprobado')\n",
    "    else:\n",
    "        print(name,'aprobado')\n",
    "\n",
    "file.close()"
   ]
  },
  {
   "cell_type": "markdown",
   "id": "68bde3fb",
   "metadata": {},
   "source": [
    "Caso 2.\n",
    "\n",
    "Ejercicio 1. La suma de todos los números impares del fichero que se va a pedir por teclado.\n",
    "\n",
    "Ejercicio 2. Escribir un programa que abra un archivo, lo procese e imprima por pantalla cuantas líneas, cuantas palabras y cuantos caracteres contiene el archivo."
   ]
  },
  {
   "cell_type": "code",
   "execution_count": 1,
   "id": "584326ca",
   "metadata": {},
   "outputs": [
    {
     "name": "stdout",
     "output_type": "stream",
     "text": [
      "10\n"
     ]
    }
   ],
   "source": [
    "suma = 0\n",
    "\n",
    "with open ('ejercicio-1_caso-2_unit-9.txt', 'r') as f:\n",
    "    for i in f.readlines():\n",
    "        if int(i) %2 != 0:\n",
    "            suma =  suma + int(i) #Debemos castear, para pasar str a int y así poder sumar\n",
    "\n",
    "print(suma)"
   ]
  },
  {
   "cell_type": "code",
   "execution_count": 2,
   "id": "eb131b37",
   "metadata": {},
   "outputs": [
    {
     "name": "stdout",
     "output_type": "stream",
     "text": [
      "3\n",
      "4\n",
      "23\n"
     ]
    }
   ],
   "source": [
    "lines = words = characters = 0\n",
    "\n",
    "with open ('ejercicio-2_caso-2_unit-9.txt', 'r') as f:\n",
    "\n",
    "    for i in f:\n",
    "        lines += 1\n",
    "        words = words + len(i.split())\n",
    "        characters = characters + len(i)\n",
    "\n",
    "print(lines)\n",
    "print(words)\n",
    "print(characters)"
   ]
  },
  {
   "cell_type": "code",
   "execution_count": null,
   "id": "36c5a3e4",
   "metadata": {},
   "outputs": [],
   "source": []
  }
 ],
 "metadata": {
  "kernelspec": {
   "display_name": "Python 3 (ipykernel)",
   "language": "python",
   "name": "python3"
  },
  "language_info": {
   "codemirror_mode": {
    "name": "ipython",
    "version": 3
   },
   "file_extension": ".py",
   "mimetype": "text/x-python",
   "name": "python",
   "nbconvert_exporter": "python",
   "pygments_lexer": "ipython3",
   "version": "3.11.4"
  }
 },
 "nbformat": 4,
 "nbformat_minor": 5
}
